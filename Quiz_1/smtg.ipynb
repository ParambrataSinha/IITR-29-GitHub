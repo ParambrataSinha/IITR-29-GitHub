{
 "cells": [
  {
   "cell_type": "code",
   "execution_count": 1,
   "id": "29f1e7c6",
   "metadata": {},
   "outputs": [],
   "source": [
    "import numpy as np\n",
    "import pandas as pd\n",
    "import matplotlib.pyplot as plt\n",
    "# from docutils.nodes import figure\n",
    "# from mpmath import arange\n"
   ]
  },
  {
   "cell_type": "code",
   "execution_count": 4,
   "id": "dc873b96",
   "metadata": {},
   "outputs": [],
   "source": [
    "df=pd.read_csv(\"/Users/phantom/District/PhantomLab/CodeSpace/ZPrac/IOC (20250819000000000 _20240807000000000).csv\");"
   ]
  },
  {
   "cell_type": "code",
   "execution_count": 5,
   "id": "f10679bf",
   "metadata": {},
   "outputs": [
    {
     "name": "stdout",
     "output_type": "stream",
     "text": [
      "<class 'pandas.core.frame.DataFrame'>\n",
      "RangeIndex: 262 entries, 0 to 261\n",
      "Data columns (total 8 columns):\n",
      " #   Column               Non-Null Count  Dtype  \n",
      "---  ------               --------------  -----  \n",
      " 0   Date                 262 non-null    object \n",
      " 1   Open                 262 non-null    float64\n",
      " 2   High                 262 non-null    float64\n",
      " 3   Low                  262 non-null    float64\n",
      " 4   Close                262 non-null    float64\n",
      " 5   % Change             262 non-null    float64\n",
      " 6   % Change vs Average  262 non-null    float64\n",
      " 7   Volume               262 non-null    object \n",
      "dtypes: float64(6), object(2)\n",
      "memory usage: 16.5+ KB\n",
      "None\n"
     ]
    }
   ],
   "source": [
    "print(df.info())"
   ]
  },
  {
   "cell_type": "code",
   "execution_count": 6,
   "id": "11af4a07",
   "metadata": {},
   "outputs": [
    {
     "name": "stdout",
     "output_type": "stream",
     "text": [
      "              Open         High          Low        Close    % Change  \\\n",
      "count   262.000000   262.000000   262.000000   262.000000  262.000000   \n",
      "mean    815.924618   847.736450   790.871756   822.075000    0.646336   \n",
      "std     466.723328   486.813851   454.065571   471.898144    4.350185   \n",
      "min     362.000000   383.000000   348.900000   362.450000  -14.210000   \n",
      "25%     478.650000   489.700000   461.250000   478.062500   -2.065000   \n",
      "50%     592.775000   616.900000   579.925000   601.875000    0.585000   \n",
      "75%    1050.950000  1097.487500  1028.675000  1073.537500    3.005000   \n",
      "max    2223.300000  2286.150000  2136.550000  2223.050000   19.110000   \n",
      "\n",
      "       % Change vs Average  \n",
      "count           262.000000  \n",
      "mean             -0.000382  \n",
      "std               4.350414  \n",
      "min             -14.860000  \n",
      "25%              -2.715000  \n",
      "50%              -0.065000  \n",
      "75%               2.365000  \n",
      "max              18.470000  \n"
     ]
    }
   ],
   "source": [
    "print(df.describe())"
   ]
  },
  {
   "cell_type": "code",
   "execution_count": 7,
   "id": "9d5b0c37",
   "metadata": {},
   "outputs": [
    {
     "name": "stdout",
     "output_type": "stream",
     "text": [
      "0    491.90\n",
      "1    493.50\n",
      "2    476.10\n",
      "3    485.10\n",
      "4    508.65\n",
      "Name: Close, dtype: float64\n"
     ]
    }
   ],
   "source": [
    "print(df[\"Close\"].head())"
   ]
  },
  {
   "cell_type": "code",
   "execution_count": 8,
   "id": "b2d07311",
   "metadata": {},
   "outputs": [
    {
     "name": "stdout",
     "output_type": "stream",
     "text": [
      "                                                  Date     Open     High  \\\n",
      "0    Mon Aug 17 2020 00:00:00 GMT+0530 (India Stand...   495.10   508.50   \n",
      "1    Mon Aug 24 2020 00:00:00 GMT+0530 (India Stand...   492.00   506.25   \n",
      "2    Mon Aug 31 2020 00:00:00 GMT+0530 (India Stand...   499.00   501.20   \n",
      "3    Mon Sep 07 2020 00:00:00 GMT+0530 (India Stand...   484.50   487.45   \n",
      "4    Mon Sep 14 2020 00:00:00 GMT+0530 (India Stand...   492.00   518.10   \n",
      "..                                                 ...      ...      ...   \n",
      "257  Mon Jul 21 2025 00:00:00 GMT+0530 (India Stand...  2223.30  2237.85   \n",
      "258  Mon Jul 28 2025 00:00:00 GMT+0530 (India Stand...  2164.30  2177.50   \n",
      "259  Mon Aug 04 2025 00:00:00 GMT+0530 (India Stand...  2063.00  2097.50   \n",
      "260  Mon Aug 11 2025 00:00:00 GMT+0530 (India Stand...  2025.00  2072.35   \n",
      "261  Mon Aug 18 2025 00:00:00 GMT+0530 (India Stand...  1999.15  2041.50   \n",
      "\n",
      "         Low    Close  % Change  % Change vs Average     Volume  \n",
      "0     471.20   491.90      3.47                 2.82  1,925,624  \n",
      "1     475.00   493.50      0.33                -0.32    793,151  \n",
      "2     461.00   476.10     -3.53                -4.17    570,111  \n",
      "3     450.25   485.10      1.89                 1.24    560,774  \n",
      "4     476.10   508.65      4.85                 4.21    770,833  \n",
      "..       ...      ...       ...                  ...        ...  \n",
      "257  2126.75  2144.35     -3.54                -4.19    105,571  \n",
      "258  2053.25  2066.95     -3.61                -4.26    148,979  \n",
      "259  2005.60  2018.40     -2.35                -3.00     95,739  \n",
      "260  2012.10  2043.95      1.27                 0.62     61,144  \n",
      "261  1998.05  2016.45     -1.35                -1.99     18,032  \n",
      "\n",
      "[251 rows x 8 columns]\n"
     ]
    }
   ],
   "source": [
    "print(df[df[\"Close\"]>385.2])"
   ]
  },
  {
   "cell_type": "code",
   "execution_count": 9,
   "id": "6d552743",
   "metadata": {},
   "outputs": [
    {
     "name": "stdout",
     "output_type": "stream",
     "text": [
      "                                                Date   Open    High     Low  \\\n",
      "0  Mon Aug 17 2020 00:00:00 GMT+0530 (India Stand...  495.1  508.50  471.20   \n",
      "1  Mon Aug 24 2020 00:00:00 GMT+0530 (India Stand...  492.0  506.25  475.00   \n",
      "2  Mon Aug 31 2020 00:00:00 GMT+0530 (India Stand...  499.0  501.20  461.00   \n",
      "3  Mon Sep 07 2020 00:00:00 GMT+0530 (India Stand...  484.5  487.45  450.25   \n",
      "4  Mon Sep 14 2020 00:00:00 GMT+0530 (India Stand...  492.0  518.10  476.10   \n",
      "\n",
      "    Close  % Change  % Change vs Average     Volume  Double  \n",
      "0  491.90      3.47                 2.82  1,925,624   983.8  \n",
      "1  493.50      0.33                -0.32    793,151   987.0  \n",
      "2  476.10     -3.53                -4.17    570,111   952.2  \n",
      "3  485.10      1.89                 1.24    560,774   970.2  \n",
      "4  508.65      4.85                 4.21    770,833  1017.3  \n"
     ]
    }
   ],
   "source": [
    "df[\"Double\"] = df['Close'] * 2\n",
    "print(df.head())"
   ]
  },
  {
   "cell_type": "code",
   "execution_count": 10,
   "id": "2b73500f",
   "metadata": {},
   "outputs": [],
   "source": [
    "df[\"Date\"] = df[\"Date\"].str.replace(r\"\\s*\\(.*\\)$\",\"\", regex=True)\n",
    "df[\"Date\"] = df[\"Date\"].str.replace(r\"\\s*GMT[+-]\\d{4}\",\"\", regex=True)\n",
    "df[\"Date\"] = df[\"Date\"].str.replace(r\"\\s*\\{GMT+0530}$\",\"\", regex=True)"
   ]
  },
  {
   "cell_type": "code",
   "execution_count": 11,
   "id": "bbef101f",
   "metadata": {},
   "outputs": [
    {
     "name": "stdout",
     "output_type": "stream",
     "text": [
      "                       Date   Open    High     Low   Close  % Change  \\\n",
      "0  Mon Aug 17 2020 00:00:00  495.1  508.50  471.20  491.90      3.47   \n",
      "1  Mon Aug 24 2020 00:00:00  492.0  506.25  475.00  493.50      0.33   \n",
      "2  Mon Aug 31 2020 00:00:00  499.0  501.20  461.00  476.10     -3.53   \n",
      "3  Mon Sep 07 2020 00:00:00  484.5  487.45  450.25  485.10      1.89   \n",
      "4  Mon Sep 14 2020 00:00:00  492.0  518.10  476.10  508.65      4.85   \n",
      "\n",
      "   % Change vs Average     Volume  Double  \n",
      "0                 2.82  1,925,624   983.8  \n",
      "1                -0.32    793,151   987.0  \n",
      "2                -4.17    570,111   952.2  \n",
      "3                 1.24    560,774   970.2  \n",
      "4                 4.21    770,833  1017.3  \n"
     ]
    }
   ],
   "source": [
    "print(df.head())"
   ]
  },
  {
   "cell_type": "code",
   "execution_count": 12,
   "id": "b67a1a68",
   "metadata": {},
   "outputs": [
    {
     "name": "stdout",
     "output_type": "stream",
     "text": [
      "Date                   datetime64[ns]\n",
      "Open                          float64\n",
      "High                          float64\n",
      "Low                           float64\n",
      "Close                         float64\n",
      "% Change                      float64\n",
      "% Change vs Average           float64\n",
      "Volume                         object\n",
      "Double                        float64\n",
      "dtype: object\n",
      "          Date\n",
      "0   2020-08-17\n",
      "1   2020-08-24\n",
      "2   2020-08-31\n",
      "3   2020-09-07\n",
      "4   2020-09-14\n",
      "..         ...\n",
      "257 2025-07-21\n",
      "258 2025-07-28\n",
      "259 2025-08-04\n",
      "260 2025-08-11\n",
      "261 2025-08-18\n",
      "\n",
      "[262 rows x 1 columns]\n"
     ]
    }
   ],
   "source": [
    "df[\"Date\"]=pd.to_datetime(df[\"Date\"],format=\"%a %b %d %Y %H:%M:%S\")\n",
    "print(df.dtypes)\n",
    "print(df[[\"Date\"]])"
   ]
  },
  {
   "cell_type": "code",
   "execution_count": 13,
   "id": "c2b3c252",
   "metadata": {},
   "outputs": [],
   "source": [
    "df[\"Range\"] = df[\"High\"] - df[\"Low\"]"
   ]
  },
  {
   "cell_type": "code",
   "execution_count": 16,
   "id": "24b26c73",
   "metadata": {},
   "outputs": [
    {
     "data": {
      "image/png": "[encoded data removed]",
      "text/plain": [
       "<Figure size 640x480 with 1 Axes>"
      ]
     },
     "metadata": {},
     "output_type": "display_data"
    }
   ],
   "source": [
    "plt.plot(df[\"Range\"], label=\"Range\",color='green')\n",
    "plt.legend();\n",
    "plt.xlabel(\"Date\");\n",
    "plt.ylabel(\"Price(INR)\");\n",
    "plt.show();"
   ]
  },
  {
   "cell_type": "code",
   "execution_count": 18,
   "id": "e3755f5d",
   "metadata": {},
   "outputs": [],
   "source": [
    "import plotly.graph_objects as go"
   ]
  },
  {
   "cell_type": "code",
   "execution_count": 20,
   "id": "a6e44dde",
   "metadata": {},
   "outputs": [
    {
     "ename": "ValueError",
     "evalue": "Mime type rendering requires nbformat>=4.2.0 but it is not installed",
     "output_type": "error",
     "traceback": [
      "\u001b[31m---------------------------------------------------------------------------\u001b[39m",
      "\u001b[31mValueError\u001b[39m                                Traceback (most recent call last)",
      "\u001b[36mCell\u001b[39m\u001b[36m \u001b[39m\u001b[32mIn[20]\u001b[39m\u001b[32m, line 13\u001b[39m\n\u001b[32m      1\u001b[39m fig = go.Figure(data=[go.Candlestick(\n\u001b[32m      2\u001b[39m     x=df[\u001b[33m'\u001b[39m\u001b[33mDate\u001b[39m\u001b[33m'\u001b[39m],\n\u001b[32m      3\u001b[39m     \u001b[38;5;28mopen\u001b[39m=df[\u001b[33m'\u001b[39m\u001b[33mOpen\u001b[39m\u001b[33m'\u001b[39m],\n\u001b[32m   (...)\u001b[39m\u001b[32m      6\u001b[39m     close=df[\u001b[33m'\u001b[39m\u001b[33mClose\u001b[39m\u001b[33m'\u001b[39m]\n\u001b[32m      7\u001b[39m )])\n\u001b[32m      9\u001b[39m fig.update_layout(\n\u001b[32m     10\u001b[39m     title=\u001b[33m'\u001b[39m\u001b[33mInteractive Candlestick Chart\u001b[39m\u001b[33m'\u001b[39m,\n\u001b[32m     11\u001b[39m     xaxis_rangeslider_visible=\u001b[38;5;28;01mFalse\u001b[39;00m\n\u001b[32m     12\u001b[39m )\n\u001b[32m---> \u001b[39m\u001b[32m13\u001b[39m \u001b[43mfig\u001b[49m\u001b[43m.\u001b[49m\u001b[43mshow\u001b[49m\u001b[43m(\u001b[49m\u001b[43m)\u001b[49m\n",
      "\u001b[36mFile \u001b[39m\u001b[32m~/District/PhantomLab/CodeSpace/.venv/lib/python3.13/site-packages/plotly/basedatatypes.py:3420\u001b[39m, in \u001b[36mBaseFigure.show\u001b[39m\u001b[34m(self, *args, **kwargs)\u001b[39m\n\u001b[32m   3387\u001b[39m \u001b[38;5;250m\u001b[39m\u001b[33;03m\"\"\"\u001b[39;00m\n\u001b[32m   3388\u001b[39m \u001b[33;03mShow a figure using either the default renderer(s) or the renderer(s)\u001b[39;00m\n\u001b[32m   3389\u001b[39m \u001b[33;03mspecified by the renderer argument\u001b[39;00m\n\u001b[32m   (...)\u001b[39m\u001b[32m   3416\u001b[39m \u001b[33;03mNone\u001b[39;00m\n\u001b[32m   3417\u001b[39m \u001b[33;03m\"\"\"\u001b[39;00m\n\u001b[32m   3418\u001b[39m \u001b[38;5;28;01mimport\u001b[39;00m\u001b[38;5;250m \u001b[39m\u001b[34;01mplotly\u001b[39;00m\u001b[34;01m.\u001b[39;00m\u001b[34;01mio\u001b[39;00m\u001b[38;5;250m \u001b[39m\u001b[38;5;28;01mas\u001b[39;00m\u001b[38;5;250m \u001b[39m\u001b[34;01mpio\u001b[39;00m\n\u001b[32m-> \u001b[39m\u001b[32m3420\u001b[39m \u001b[38;5;28;01mreturn\u001b[39;00m \u001b[43mpio\u001b[49m\u001b[43m.\u001b[49m\u001b[43mshow\u001b[49m\u001b[43m(\u001b[49m\u001b[38;5;28;43mself\u001b[39;49m\u001b[43m,\u001b[49m\u001b[43m \u001b[49m\u001b[43m*\u001b[49m\u001b[43margs\u001b[49m\u001b[43m,\u001b[49m\u001b[43m \u001b[49m\u001b[43m*\u001b[49m\u001b[43m*\u001b[49m\u001b[43mkwargs\u001b[49m\u001b[43m)\u001b[49m\n",
      "\u001b[36mFile \u001b[39m\u001b[32m~/District/PhantomLab/CodeSpace/.venv/lib/python3.13/site-packages/plotly/io/_renderers.py:415\u001b[39m, in \u001b[36mshow\u001b[39m\u001b[34m(fig, renderer, validate, **kwargs)\u001b[39m\n\u001b[32m    410\u001b[39m     \u001b[38;5;28;01mraise\u001b[39;00m \u001b[38;5;167;01mValueError\u001b[39;00m(\n\u001b[32m    411\u001b[39m         \u001b[33m\"\u001b[39m\u001b[33mMime type rendering requires ipython but it is not installed\u001b[39m\u001b[33m\"\u001b[39m\n\u001b[32m    412\u001b[39m     )\n\u001b[32m    414\u001b[39m \u001b[38;5;28;01mif\u001b[39;00m \u001b[38;5;129;01mnot\u001b[39;00m nbformat \u001b[38;5;129;01mor\u001b[39;00m Version(nbformat.__version__) < Version(\u001b[33m\"\u001b[39m\u001b[33m4.2.0\u001b[39m\u001b[33m\"\u001b[39m):\n\u001b[32m--> \u001b[39m\u001b[32m415\u001b[39m     \u001b[38;5;28;01mraise\u001b[39;00m \u001b[38;5;167;01mValueError\u001b[39;00m(\n\u001b[32m    416\u001b[39m         \u001b[33m\"\u001b[39m\u001b[33mMime type rendering requires nbformat>=4.2.0 but it is not installed\u001b[39m\u001b[33m\"\u001b[39m\n\u001b[32m    417\u001b[39m     )\n\u001b[32m    419\u001b[39m display_jupyter_version_warnings()\n\u001b[32m    421\u001b[39m ipython_display.display(bundle, raw=\u001b[38;5;28;01mTrue\u001b[39;00m)\n",
      "\u001b[31mValueError\u001b[39m: Mime type rendering requires nbformat>=4.2.0 but it is not installed"
     ]
    }
   ],
   "source": [
    "fig = go.Figure(data=[go.Candlestick(\n",
    "    x=df['Date'],\n",
    "    open=df['Open'],\n",
    "    high=df['High'],\n",
    "    low=df['Low'],\n",
    "    close=df['Close']\n",
    ")])\n",
    "\n",
    "fig.update_layout(\n",
    "    title='Interactive Candlestick Chart',\n",
    "    xaxis_rangeslider_visible=False\n",
    ")\n",
    "fig.show()"
   ]
  },
  {
   "cell_type": "code",
   "execution_count": null,
   "id": "89cf6696",
   "metadata": {},
   "outputs": [],
   "source": []
  }
 ],
 "metadata": {
  "kernelspec": {
   "display_name": ".venv",
   "language": "python",
   "name": "python3"
  },
  "language_info": {
   "codemirror_mode": {
    "name": "ipython",
    "version": 3
   },
   "file_extension": ".py",
   "mimetype": "text/x-python",
   "name": "python",
   "nbconvert_exporter": "python",
   "pygments_lexer": "ipython3",
   "version": "3.13.5"
  }
 },
 "nbformat": 4,
 "nbformat_minor": 5
}
